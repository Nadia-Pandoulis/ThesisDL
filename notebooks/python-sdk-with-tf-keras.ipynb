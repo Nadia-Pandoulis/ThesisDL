{
  "cells": [
    {
      "cell_type": "markdown",
      "source": [
        "# Using the Edge Impulse Python SDK with TensorFlow and Keras\n",
        "\n",
        "<!--- Do not modify the markdown for this example directly! It is generated from a notebook in https://github.com/edgeimpulse/notebooks --->"
      ]
    },
    {
      "cell_type": "markdown",
      "source": [
        "[![View in Edge Impulse docs](https://raw.githubusercontent.com/edgeimpulse/notebooks/main/.assets/images/ei-badge.svg)](https://docs.edgeimpulse.com/docs/tutorials/ml-and-data-engineering/ei-python-sdk/python-sdk-with-tf-keras)\n",
        "[![Open in Google Colab](https://colab.research.google.com/assets/colab-badge.svg)](https://colab.research.google.com/github/edgeimpulse/notebooks/blob/main/notebooks/python-sdk-with-tf-keras.ipynb)\n",
        "[![View on GitHub](https://raw.githubusercontent.com/edgeimpulse/notebooks/main/.assets/images/badge-view-on-github.svg)](https://github.com/edgeimpulse/notebooks/blob/main/notebooks/python-sdk-with-tf-keras.ipynb)\n",
        "[![Download notebook](https://raw.githubusercontent.com/edgeimpulse/notebooks/main/.assets/images/badge-download-notebook.svg)](https://raw.githubusercontent.com/edgeimpulse/notebooks/main/notebooks/python-sdk-with-tf-keras.ipynb)"
      ]
    },
    {
      "cell_type": "markdown",
      "source": [
        "This notebook demonstrates how to train a model using TensorFlow and deploy it using the Edge Impulse Python SDK. Here, we customize it to work with the Edge Impulse `openmvh7p` device and a specific API key."
      ]
    },
    {
      "cell_type": "code",
      "execution_count": null,
      "source": [
        "# Install necessary packages if not installed already\n",
        "!python -m pip install tensorflow==2.12.0 edgeimpulse"
      ]
    },
    {
      "cell_type": "code",
      "execution_count": null,
      "source": [
        "from tensorflow import keras\n",
        "import edgeimpulse as ei"
      ]
    },
    {
      "cell_type": "markdown",
      "source": [
        "## Configure API Key and Device\n",
        "Set your Edge Impulse API key and specify your target device (`openmvh7p`)."
      ]
    },
    {
      "cell_type": "code",
      "execution_count": null,
      "source": [
        "# Settings\n",
        "ei.API_KEY = \"ei_c90f6349e4f2624274eff30ee840a3e6412c3135d1651ee15515404d290ce842\"\n",
        "device_name = \"openmvh7p\"\n",
        "labels = [\"0\", \"1\", \"2\", \"3\", \"4\", \"5\", \"6\", \"7\", \"8\", \"9\"]\n",
        "num_classes = len(labels)\n",
        "deploy_filename = \"my_model_cpp.zip\""
      ]
    },
    {
      "cell_type": "markdown",
      "source": [
        "## Load and Prepare Data\n",
        "We will use the MNIST dataset for training."
      ]
    },
    {
      "cell_type": "code",
      "execution_count": null,
      "source": [
        "# Load MNIST data\n",
        "(x_train, y_train), (x_test, y_test) = keras.datasets.mnist.load_data()\n",
        "x_train = keras.utils.normalize(x_train, axis=1)\n",
        "x_test = keras.utils.normalize(x_test, axis=1)\n",
        "y_train = keras.utils.to_categorical(y_train, num_classes)\n",
        "y_test = keras.utils.to_categorical(y_test, num_classes)\n",
        "input_shape = x_train[0].shape"
      ]
    },
    {
      "cell_type": "code",
      "execution_count": null,
      "source": [
        "# Build the model\n",
        "model = keras.Sequential([\n",
        "    keras.layers.Flatten(),\n",
        "    keras.layers.Dense(32, activation='relu', input_shape=input_shape),\n",
        "    keras.layers.Dense(num_classes, activation='softmax')\n",
        "])\n",
        "\n",
        "# Compile the model\n",
        "model.compile(optimizer='adam',\n",
        "              loss='categorical_crossentropy',\n",
        "              metrics=['accuracy'])"
      ]
    },
    {
      "cell_type": "code",
      "execution_count": null,
      "source": [
        "# Train the model\n",
        "model.fit(x_train,\n",
        "          y_train,\n",
        "          epochs=5)"
      ]
    },
    {
      "cell_type": "code",
      "execution_count": null,
      "source": [
        "# Evaluate model on test set\n",
        "score = model.evaluate(x_test, y_test, verbose=0)\n",
        "print(f\"Test loss: {score[0]}\")\n",
        "print(f\"Test accuracy: {score[1]}\")"
      ]
    },
    {
      "cell_type": "markdown",
      "source": [
        "## Profile and Deploy the Model for the `openmvh7p` Device\n",
        "Now we profile the model and prepare it for deployment."
      ]
    },
    {
      "cell_type": "code",
      "execution_count": null,
      "source": [
        "# Profile the model for your specific device\n",
        "devices = ei.model.list_profile_devices()\n",
        "device_id = next((d['device'] for d in devices if d['device'] == device_name), None)\n",
        "if device_id:\n",
        "    profile = ei.model.profile_model(model, device=device_id)\n",
        "    print(profile)\n",
        "else:\n",
        "    print(f\"Device '{device_name}' not found in available devices.\")"
      ]
    },
    {
      "cell_type": "code",
      "execution_count": null,
      "source": [
        "# Convert model to Edge Impulse compatible format\n",
        "ei.model.convert_to_cpp(model, deploy_filename, device=device_name)\n",
        "print(f\"Model converted and saved as {deploy_filename}\")"
      ]
    }
  ]
}
