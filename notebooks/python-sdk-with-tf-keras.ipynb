{
  "cells": [
    {
      "cell_type": "markdown",
      "id": "7583a486-afd6-42d8-934b-fdb33a6f3362",
      "metadata": {
        "tags": [],
        "id": "7583a486-afd6-42d8-934b-fdb33a6f3362"
      },
      "source": [
        "# Bushfire Detection Model Development\n",
        "Using the Edge Impulse Python SDK with TensorFlow and Keras to train model to detect bushfires vs. no bushfire within a given image."
      ]
    },
    {
      "cell_type": "markdown",
      "source": [
        "#Install Dependencies"
      ],
      "metadata": {
        "id": "V0C6D6JxLU_7"
      },
      "id": "V0C6D6JxLU_7"
    },
    {
      "cell_type": "code",
      "execution_count": null,
      "id": "e0de311a-de4c-4fe1-8dd9-e7b2206217d0",
      "metadata": {
        "id": "e0de311a-de4c-4fe1-8dd9-e7b2206217d0",
        "colab": {
          "base_uri": "https://localhost:8080/"
        },
        "outputId": "7a1cca64-894e-4b64-b8d5-27c674f34855"
      },
      "outputs": [
        {
          "output_type": "stream",
          "name": "stdout",
          "text": [
            "Requirement already satisfied: tensorflow==2.12.0 in /usr/local/lib/python3.11/dist-packages (2.12.0)\n",
            "Requirement already satisfied: edgeimpulse in /usr/local/lib/python3.11/dist-packages (1.0.18)\n",
            "Requirement already satisfied: absl-py>=1.0.0 in /usr/local/lib/python3.11/dist-packages (from tensorflow==2.12.0) (1.4.0)\n",
            "Requirement already satisfied: astunparse>=1.6.0 in /usr/local/lib/python3.11/dist-packages (from tensorflow==2.12.0) (1.6.3)\n",
            "Requirement already satisfied: flatbuffers>=2.0 in /usr/local/lib/python3.11/dist-packages (from tensorflow==2.12.0) (25.2.10)\n",
            "Requirement already satisfied: gast<=0.4.0,>=0.2.1 in /usr/local/lib/python3.11/dist-packages (from tensorflow==2.12.0) (0.4.0)\n",
            "Requirement already satisfied: google-pasta>=0.1.1 in /usr/local/lib/python3.11/dist-packages (from tensorflow==2.12.0) (0.2.0)\n",
            "Requirement already satisfied: grpcio<2.0,>=1.24.3 in /usr/local/lib/python3.11/dist-packages (from tensorflow==2.12.0) (1.71.0)\n",
            "Requirement already satisfied: h5py>=2.9.0 in /usr/local/lib/python3.11/dist-packages (from tensorflow==2.12.0) (3.13.0)\n",
            "Requirement already satisfied: jax>=0.3.15 in /usr/local/lib/python3.11/dist-packages (from tensorflow==2.12.0) (0.4.30)\n",
            "Requirement already satisfied: keras<2.13,>=2.12.0 in /usr/local/lib/python3.11/dist-packages (from tensorflow==2.12.0) (2.12.0)\n",
            "Requirement already satisfied: libclang>=13.0.0 in /usr/local/lib/python3.11/dist-packages (from tensorflow==2.12.0) (18.1.1)\n",
            "Requirement already satisfied: numpy<1.24,>=1.22 in /usr/local/lib/python3.11/dist-packages (from tensorflow==2.12.0) (1.23.5)\n",
            "Requirement already satisfied: opt-einsum>=2.3.2 in /usr/local/lib/python3.11/dist-packages (from tensorflow==2.12.0) (3.4.0)\n",
            "Requirement already satisfied: packaging in /usr/local/lib/python3.11/dist-packages (from tensorflow==2.12.0) (24.2)\n",
            "Requirement already satisfied: protobuf!=4.21.0,!=4.21.1,!=4.21.2,!=4.21.3,!=4.21.4,!=4.21.5,<5.0.0dev,>=3.20.3 in /usr/local/lib/python3.11/dist-packages (from tensorflow==2.12.0) (4.25.6)\n",
            "Requirement already satisfied: setuptools in /usr/local/lib/python3.11/dist-packages (from tensorflow==2.12.0) (75.1.0)\n",
            "Requirement already satisfied: six>=1.12.0 in /usr/local/lib/python3.11/dist-packages (from tensorflow==2.12.0) (1.17.0)\n",
            "Requirement already satisfied: tensorboard<2.13,>=2.12 in /usr/local/lib/python3.11/dist-packages (from tensorflow==2.12.0) (2.12.3)\n",
            "Requirement already satisfied: tensorflow-estimator<2.13,>=2.12.0 in /usr/local/lib/python3.11/dist-packages (from tensorflow==2.12.0) (2.12.0)\n",
            "Requirement already satisfied: termcolor>=1.1.0 in /usr/local/lib/python3.11/dist-packages (from tensorflow==2.12.0) (2.5.0)\n",
            "Requirement already satisfied: typing-extensions>=3.6.6 in /usr/local/lib/python3.11/dist-packages (from tensorflow==2.12.0) (4.12.2)\n",
            "Requirement already satisfied: wrapt<1.15,>=1.11.0 in /usr/local/lib/python3.11/dist-packages (from tensorflow==2.12.0) (1.14.1)\n",
            "Requirement already satisfied: tensorflow-io-gcs-filesystem>=0.23.1 in /usr/local/lib/python3.11/dist-packages (from tensorflow==2.12.0) (0.37.1)\n",
            "Requirement already satisfied: edgeimpulse-api<2.0.0,>=1.61.23 in /usr/local/lib/python3.11/dist-packages (from edgeimpulse) (1.71.15)\n",
            "Requirement already satisfied: python-socketio<6.0.0,>=5.8.0 in /usr/local/lib/python3.11/dist-packages (from python-socketio[client]<6.0.0,>=5.8.0->edgeimpulse) (5.12.1)\n",
            "Requirement already satisfied: requests<3.0.0,>=2.23.0 in /usr/local/lib/python3.11/dist-packages (from edgeimpulse) (2.32.3)\n",
            "Requirement already satisfied: wheel<1.0,>=0.23.0 in /usr/local/lib/python3.11/dist-packages (from astunparse>=1.6.0->tensorflow==2.12.0) (0.45.1)\n",
            "Requirement already satisfied: aenum<4.0.0,>=3.1.11 in /usr/local/lib/python3.11/dist-packages (from edgeimpulse-api<2.0.0,>=1.61.23->edgeimpulse) (3.1.15)\n",
            "Requirement already satisfied: pydantic<2.0.0,>=1.10.2 in /usr/local/lib/python3.11/dist-packages (from edgeimpulse-api<2.0.0,>=1.61.23->edgeimpulse) (1.10.21)\n",
            "Requirement already satisfied: python_dateutil<3.0.0,>=2.5.3 in /usr/local/lib/python3.11/dist-packages (from edgeimpulse-api<2.0.0,>=1.61.23->edgeimpulse) (2.8.2)\n",
            "Requirement already satisfied: urllib3<2.0.0,>=1.25.3 in /usr/local/lib/python3.11/dist-packages (from edgeimpulse-api<2.0.0,>=1.61.23->edgeimpulse) (1.26.20)\n",
            "Requirement already satisfied: jaxlib<=0.4.30,>=0.4.27 in /usr/local/lib/python3.11/dist-packages (from jax>=0.3.15->tensorflow==2.12.0) (0.4.30)\n",
            "Requirement already satisfied: ml-dtypes>=0.2.0 in /usr/local/lib/python3.11/dist-packages (from jax>=0.3.15->tensorflow==2.12.0) (0.4.1)\n",
            "Requirement already satisfied: scipy>=1.9 in /usr/local/lib/python3.11/dist-packages (from jax>=0.3.15->tensorflow==2.12.0) (1.14.1)\n",
            "Requirement already satisfied: bidict>=0.21.0 in /usr/local/lib/python3.11/dist-packages (from python-socketio<6.0.0,>=5.8.0->python-socketio[client]<6.0.0,>=5.8.0->edgeimpulse) (0.23.1)\n",
            "Requirement already satisfied: python-engineio>=4.11.0 in /usr/local/lib/python3.11/dist-packages (from python-socketio<6.0.0,>=5.8.0->python-socketio[client]<6.0.0,>=5.8.0->edgeimpulse) (4.11.2)\n",
            "Requirement already satisfied: websocket-client>=0.54.0 in /usr/local/lib/python3.11/dist-packages (from python-socketio[client]<6.0.0,>=5.8.0->edgeimpulse) (1.8.0)\n",
            "Requirement already satisfied: charset-normalizer<4,>=2 in /usr/local/lib/python3.11/dist-packages (from requests<3.0.0,>=2.23.0->edgeimpulse) (3.4.1)\n",
            "Requirement already satisfied: idna<4,>=2.5 in /usr/local/lib/python3.11/dist-packages (from requests<3.0.0,>=2.23.0->edgeimpulse) (3.10)\n",
            "Requirement already satisfied: certifi>=2017.4.17 in /usr/local/lib/python3.11/dist-packages (from requests<3.0.0,>=2.23.0->edgeimpulse) (2025.1.31)\n",
            "Requirement already satisfied: google-auth<3,>=1.6.3 in /usr/local/lib/python3.11/dist-packages (from tensorboard<2.13,>=2.12->tensorflow==2.12.0) (2.38.0)\n",
            "Requirement already satisfied: google-auth-oauthlib<1.1,>=0.5 in /usr/local/lib/python3.11/dist-packages (from tensorboard<2.13,>=2.12->tensorflow==2.12.0) (1.0.0)\n",
            "Requirement already satisfied: markdown>=2.6.8 in /usr/local/lib/python3.11/dist-packages (from tensorboard<2.13,>=2.12->tensorflow==2.12.0) (3.7)\n",
            "Requirement already satisfied: tensorboard-data-server<0.8.0,>=0.7.0 in /usr/local/lib/python3.11/dist-packages (from tensorboard<2.13,>=2.12->tensorflow==2.12.0) (0.7.2)\n",
            "Requirement already satisfied: werkzeug>=1.0.1 in /usr/local/lib/python3.11/dist-packages (from tensorboard<2.13,>=2.12->tensorflow==2.12.0) (3.1.3)\n",
            "Requirement already satisfied: cachetools<6.0,>=2.0.0 in /usr/local/lib/python3.11/dist-packages (from google-auth<3,>=1.6.3->tensorboard<2.13,>=2.12->tensorflow==2.12.0) (5.5.2)\n",
            "Requirement already satisfied: pyasn1-modules>=0.2.1 in /usr/local/lib/python3.11/dist-packages (from google-auth<3,>=1.6.3->tensorboard<2.13,>=2.12->tensorflow==2.12.0) (0.4.1)\n",
            "Requirement already satisfied: rsa<5,>=3.1.4 in /usr/local/lib/python3.11/dist-packages (from google-auth<3,>=1.6.3->tensorboard<2.13,>=2.12->tensorflow==2.12.0) (4.9)\n",
            "Requirement already satisfied: requests-oauthlib>=0.7.0 in /usr/local/lib/python3.11/dist-packages (from google-auth-oauthlib<1.1,>=0.5->tensorboard<2.13,>=2.12->tensorflow==2.12.0) (2.0.0)\n",
            "Requirement already satisfied: simple-websocket>=0.10.0 in /usr/local/lib/python3.11/dist-packages (from python-engineio>=4.11.0->python-socketio<6.0.0,>=5.8.0->python-socketio[client]<6.0.0,>=5.8.0->edgeimpulse) (1.1.0)\n",
            "Requirement already satisfied: MarkupSafe>=2.1.1 in /usr/local/lib/python3.11/dist-packages (from werkzeug>=1.0.1->tensorboard<2.13,>=2.12->tensorflow==2.12.0) (3.0.2)\n",
            "Requirement already satisfied: pyasn1<0.7.0,>=0.4.6 in /usr/local/lib/python3.11/dist-packages (from pyasn1-modules>=0.2.1->google-auth<3,>=1.6.3->tensorboard<2.13,>=2.12->tensorflow==2.12.0) (0.6.1)\n",
            "Requirement already satisfied: oauthlib>=3.0.0 in /usr/local/lib/python3.11/dist-packages (from requests-oauthlib>=0.7.0->google-auth-oauthlib<1.1,>=0.5->tensorboard<2.13,>=2.12->tensorflow==2.12.0) (3.2.2)\n",
            "Requirement already satisfied: wsproto in /usr/local/lib/python3.11/dist-packages (from simple-websocket>=0.10.0->python-engineio>=4.11.0->python-socketio<6.0.0,>=5.8.0->python-socketio[client]<6.0.0,>=5.8.0->edgeimpulse) (1.2.0)\n",
            "Requirement already satisfied: h11<1,>=0.9.0 in /usr/local/lib/python3.11/dist-packages (from wsproto->simple-websocket>=0.10.0->python-engineio>=4.11.0->python-socketio<6.0.0,>=5.8.0->python-socketio[client]<6.0.0,>=5.8.0->edgeimpulse) (0.14.0)\n"
          ]
        }
      ],
      "source": [
        "!python -m pip install tensorflow==2.12.0 edgeimpulse"
      ]
    },
    {
      "cell_type": "markdown",
      "source": [
        "# Import Packages"
      ],
      "metadata": {
        "id": "sWxSB0pKLdM-"
      },
      "id": "sWxSB0pKLdM-"
    },
    {
      "cell_type": "code",
      "execution_count": null,
      "id": "2f85b7c9-e76b-459e-ac37-4b348cbb5906",
      "metadata": {
        "tags": [],
        "id": "2f85b7c9-e76b-459e-ac37-4b348cbb5906"
      },
      "outputs": [],
      "source": [
        "from tensorflow import keras\n",
        "import edgeimpulse as ei\n",
        "import tensorflow as tf\n",
        "from tensorflow.keras.preprocessing.image import ImageDataGenerator\n",
        "from tensorflow import keras\n",
        "from tensorflow.keras.layers import Conv2D, MaxPooling2D, Flatten, Dense\n",
        "import os"
      ]
    },
    {
      "cell_type": "markdown",
      "source": [
        "# Setup"
      ],
      "metadata": {
        "id": "QWcJurluLmqj"
      },
      "id": "QWcJurluLmqj"
    },
    {
      "cell_type": "code",
      "execution_count": null,
      "id": "3429e02d-5188-4215-97c7-5a50b854b06b",
      "metadata": {
        "tags": [],
        "id": "3429e02d-5188-4215-97c7-5a50b854b06b"
      },
      "outputs": [],
      "source": [
        "# Settings\n",
        "ei.API_KEY = \"ei_c90f6349e4f2624274eff30ee840a3e6412c3135d1651ee15515404d290ce842\"\n",
        "labels = ['fire', 'nofire']\n",
        "num_classes = len(labels)\n",
        "deploy_filename = \"bushfire_detection_model_cpp.zip\""
      ]
    },
    {
      "cell_type": "code",
      "source": [
        "from google.colab import drive\n",
        "drive.mount('/content/drive')"
      ],
      "metadata": {
        "id": "mMjwVcog-IpL"
      },
      "id": "mMjwVcog-IpL",
      "execution_count": null,
      "outputs": []
    },
    {
      "cell_type": "markdown",
      "source": [
        "# Prepare Dataset\n",
        "Organise files between 'Training and Validation' and 'Testing' folders containing 'fire' and 'nofire' images.\n"
      ],
      "metadata": {
        "id": "3GDZhXZTLtAe"
      },
      "id": "3GDZhXZTLtAe"
    },
    {
      "cell_type": "code",
      "execution_count": null,
      "id": "0a0abd03-9473-4272-b97d-f59cefa44995",
      "metadata": {
        "tags": [],
        "id": "0a0abd03-9473-4272-b97d-f59cefa44995"
      },
      "outputs": [],
      "source": [
        "# Define paths for your dataset\n",
        "train_val_directory = 'drive/MyDrive/forest_fire/Training and Validation'\n",
        "test_directory = 'drive/MyDrive/forest_fire/Testing'\n",
        "\n",
        "# Create an ImageDataGenerator for training and validation\n",
        "train_val_datagen = ImageDataGenerator(\n",
        "    rescale=1.0 / 255,        # Normalize pixel values\n",
        "    validation_split=0.2      # Use 20% of the training data for validation\n",
        ")\n",
        "\n",
        "# Create generators for training and validation data\n",
        "train_generator = train_val_datagen.flow_from_directory(\n",
        "    train_val_directory,\n",
        "    target_size=(128, 128),   # Resize images to 128x128\n",
        "    batch_size=32,             # Number of images to return in each batch\n",
        "    class_mode='categorical',       # Binary classification (fire or no fire)\n",
        "    subset='training',          # Set as training data\n",
        "    classes=['fire', 'nofire'] # Explicitly specify the class names\n",
        ")\n",
        "\n",
        "validation_generator = train_val_datagen.flow_from_directory(\n",
        "    train_val_directory,\n",
        "    target_size=(128, 128),\n",
        "    batch_size=32,\n",
        "    class_mode='categorical',       # Binary classification\n",
        "    subset='validation',        # Set as validation data\n",
        "    classes=['fire','nofire'] # Explicitly specify the class names\n",
        ")"
      ]
    },
    {
      "cell_type": "markdown",
      "source": [
        "Setup of 'Testing' directory"
      ],
      "metadata": {
        "id": "dnolBQY6MrJt"
      },
      "id": "dnolBQY6MrJt"
    },
    {
      "cell_type": "code",
      "source": [
        "# Create an ImageDataGenerator for testing (no split needed)\n",
        "test_datagen = ImageDataGenerator(rescale=1.0 / 255)\n",
        "\n",
        "# Create a generator for the test data\n",
        "test_generator = test_datagen.flow_from_directory(\n",
        "    test_directory,\n",
        "    target_size=(128, 128),\n",
        "    batch_size=32,\n",
        "    class_mode='categorical',       # Binary classification\n",
        "    shuffle=False,             # Don't shuffle test data\n",
        "    classes=['fire', 'nofire'] # Explicitly specify the class names\n",
        ")"
      ],
      "metadata": {
        "id": "1j-5sWKABMEp"
      },
      "id": "1j-5sWKABMEp",
      "execution_count": null,
      "outputs": []
    },
    {
      "cell_type": "markdown",
      "source": [
        "#Building and compiling model"
      ],
      "metadata": {
        "id": "w2UTngUXMxF0"
      },
      "id": "w2UTngUXMxF0"
    },
    {
      "cell_type": "code",
      "execution_count": null,
      "id": "ba42755e-b13c-4e84-a016-4e4fcf4be9f6",
      "metadata": {
        "tags": [],
        "id": "ba42755e-b13c-4e84-a016-4e4fcf4be9f6"
      },
      "outputs": [],
      "source": [
        "# Build your model\n",
        "model = tf.keras.Sequential([\n",
        "    tf.keras.layers.Conv2D(32, (3, 3), activation='relu', input_shape=(128, 128, 3)),\n",
        "    # tf.keras.layers.MaxPooling2D(pool_size=(2, 2)),\n",
        "    tf.keras.layers.GlobalAveragePooling2D(),\n",
        "    # tf.keras.layers.Dense(64, activation='relu'),\n",
        "    tf.keras.layers.Dense(2, activation='softmax')\n",
        "])\n",
        "\n",
        "# Compile the model\n",
        "model.compile(optimizer='adam', loss='categorical_crossentropy', metrics=['accuracy'])"
      ]
    },
    {
      "cell_type": "markdown",
      "source": [
        "Testing model setup"
      ],
      "metadata": {
        "id": "7tg701dmOdIb"
      },
      "id": "7tg701dmOdIb"
    },
    {
      "source": [
        "print(train_generator.class_indices)"
      ],
      "cell_type": "code",
      "metadata": {
        "id": "teYM2iWqOegp"
      },
      "id": "teYM2iWqOegp",
      "execution_count": null,
      "outputs": []
    },
    {
      "cell_type": "markdown",
      "source": [
        "# Training Model"
      ],
      "metadata": {
        "id": "bx2t60lWM7r3"
      },
      "id": "bx2t60lWM7r3"
    },
    {
      "cell_type": "code",
      "execution_count": null,
      "id": "d6ddf625-43c9-40da-9c44-7fbbbea8b572",
      "metadata": {
        "tags": [],
        "id": "d6ddf625-43c9-40da-9c44-7fbbbea8b572"
      },
      "outputs": [],
      "source": [
        "# Train the model\n",
        "model.fit(\n",
        "    train_generator,\n",
        "    steps_per_epoch=train_generator.samples // train_generator.batch_size,\n",
        "    validation_data=validation_generator,\n",
        "    validation_steps=validation_generator.samples // validation_generator.batch_size,\n",
        "    epochs=10\n",
        ")"
      ]
    },
    {
      "cell_type": "markdown",
      "source": [
        "#Test Accuracy and Evaluation"
      ],
      "metadata": {
        "id": "mKh_ylDfM_ij"
      },
      "id": "mKh_ylDfM_ij"
    },
    {
      "cell_type": "code",
      "execution_count": null,
      "id": "dc2b0ab6-e2d0-4448-9545-4870e5b2d101",
      "metadata": {
        "tags": [],
        "id": "dc2b0ab6-e2d0-4448-9545-4870e5b2d101"
      },
      "outputs": [],
      "source": [
        "# Evaluate the model on the test data\n",
        "test_loss, test_accuracy = model.evaluate(test_generator, steps=test_generator.samples // test_generator.batch_size)\n",
        "print(f'Test Accuracy: {test_accuracy:.2f}')"
      ]
    },
    {
      "cell_type": "markdown",
      "source": [
        "# Model to System Compatibility"
      ],
      "metadata": {
        "id": "wF2C2-b_NG-w"
      },
      "id": "wF2C2-b_NG-w"
    },
    {
      "cell_type": "code",
      "execution_count": null,
      "id": "1b622df2-9745-4c93-969f-35de2ff10df6",
      "metadata": {
        "tags": [],
        "id": "1b622df2-9745-4c93-969f-35de2ff10df6"
      },
      "outputs": [],
      "source": [
        "# List the available profile target devices\n",
        "ei.model.list_profile_devices()"
      ]
    },
    {
      "cell_type": "code",
      "execution_count": null,
      "id": "3c16e2ab-0c50-483e-8d2e-01c2dd48be23",
      "metadata": {
        "tags": [],
        "id": "3c16e2ab-0c50-483e-8d2e-01c2dd48be23"
      },
      "outputs": [],
      "source": [
        "#Estimate the RAM, ROM, and inference time for our model on the target hardware family\n",
        "try:\n",
        "    profile = ei.model.profile(model=model,\n",
        "                               device='openmv-h7p')\n",
        "    print(profile.summary())\n",
        "except Exception as e:\n",
        "    print(f\"Could not profile: {e}\")"
      ]
    },
    {
      "cell_type": "markdown",
      "source": [
        "# Deploying and Downloading Model"
      ],
      "metadata": {
        "id": "Ibc348I9NnRz"
      },
      "id": "Ibc348I9NnRz"
    },
    {
      "cell_type": "code",
      "execution_count": null,
      "id": "f45a3c73-fbc2-477a-9f8d-04c3e10b1863",
      "metadata": {
        "tags": [],
        "id": "f45a3c73-fbc2-477a-9f8d-04c3e10b1863"
      },
      "outputs": [],
      "source": [
        "import tensorflow as tf\n",
        "\n",
        "# Define the output and input types for your model\n",
        "model_output_type = ei.model.output_type.Classification(labels=labels)\n",
        "model_input_type = ei.model.input_type.ImageInput()\n",
        "\n",
        "# Define filenames\n",
        "saved_model_dir = \"saved_model\"\n",
        "tflite_model_filename = \"model.tflite\"\n",
        "deploy_filename = \"tflite_model_zip.zip\"\n",
        "\n",
        "# Save your model as a TensorFlow SavedModel\n",
        "model.save(saved_model_dir)  # Save the model correctly\n",
        "\n",
        "# Convert the model to TensorFlow Lite format\n",
        "converter = tf.lite.TFLiteConverter.from_saved_model(saved_model_dir)\n",
        "tflite_model = converter.convert()\n",
        "\n",
        "# Save the converted TFLite model\n",
        "with open(tflite_model_filename, \"wb\") as f:\n",
        "    f.write(tflite_model)\n",
        "\n",
        "print(f\"Model converted to TensorFlow Lite and saved as {tflite_model_filename}\")\n",
        "\n",
        "# Deploy the TFLite model as a .zip file\n",
        "import zipfile\n",
        "\n",
        "try:\n",
        "    with zipfile.ZipFile(deploy_filename, 'w') as zipf:\n",
        "        zipf.write(tflite_model_filename)\n",
        "    print(f\"Model successfully packaged as {deploy_filename}\")\n",
        "except Exception as e:\n",
        "    print(f\"Could not create zip file: {e}\")\n"
      ]
    },
    {
      "cell_type": "code",
      "source": [
        "from google.colab import files\n",
        "import shutil\n",
        "\n",
        "shutil.make_archive(\"saved_model\", 'zip', \"saved_model\")\n",
        "files.download(\"saved_model.zip\")"
      ],
      "metadata": {
        "id": "SrWWW-ZKzG9h"
      },
      "id": "SrWWW-ZKzG9h",
      "execution_count": null,
      "outputs": []
    },
    {
      "cell_type": "markdown",
      "source": [
        "# Model Specifications\n",
        "Code to check if model has been trained correctly"
      ],
      "metadata": {
        "id": "A4pSOhuNKyXL"
      },
      "id": "A4pSOhuNKyXL"
    },
    {
      "cell_type": "code",
      "source": [
        "model.summary()"
      ],
      "metadata": {
        "id": "SrbKsNsQKU3e"
      },
      "id": "SrbKsNsQKU3e",
      "execution_count": null,
      "outputs": []
    }
  ],
  "metadata": {
    "kernelspec": {
      "display_name": "Python 3 (ipykernel)",
      "language": "python",
      "name": "python3"
    },
    "language_info": {
      "codemirror_mode": {
        "name": "ipython",
        "version": 3
      },
      "file_extension": ".py",
      "mimetype": "text/x-python",
      "name": "python",
      "nbconvert_exporter": "python",
      "pygments_lexer": "ipython3",
      "version": "3.8.16"
    },
    "colab": {
      "provenance": []
    }
  },
  "nbformat": 4,
  "nbformat_minor": 5
}