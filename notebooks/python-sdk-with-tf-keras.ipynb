{
  "cells": [
    {
      "cell_type": "markdown",
      "id": "7583a486-afd6-42d8-934b-fdb33a6f3362",
      "metadata": {
        "tags": [],
        "id": "7583a486-afd6-42d8-934b-fdb33a6f3362"
      },
      "source": [
        "# Bushfire Detection Model Development\n",
        "Using the Edge Impulse Python SDK with TensorFlow and Keras to train model to detect bushfires vs. no bushfire within a given image."
      ]
    },
    {
      "cell_type": "markdown",
      "source": [
        "#Install Dependencies"
      ],
      "metadata": {
        "id": "V0C6D6JxLU_7"
      },
      "id": "V0C6D6JxLU_7"
    },
    {
      "cell_type": "code",
      "execution_count": 3,
      "id": "e0de311a-de4c-4fe1-8dd9-e7b2206217d0",
      "metadata": {
        "id": "e0de311a-de4c-4fe1-8dd9-e7b2206217d0",
        "colab": {
          "base_uri": "https://localhost:8080/"
        },
        "outputId": "9cd5a1fd-b43a-4db8-c273-e3534b1b13b4"
      },
      "outputs": [
        {
          "output_type": "stream",
          "name": "stdout",
          "text": [
            "Requirement already satisfied: tensorflow==2.12.0 in /usr/local/lib/python3.10/dist-packages (2.12.0)\n",
            "Requirement already satisfied: edgeimpulse in /usr/local/lib/python3.10/dist-packages (1.0.15)\n",
            "Requirement already satisfied: absl-py>=1.0.0 in /usr/local/lib/python3.10/dist-packages (from tensorflow==2.12.0) (1.4.0)\n",
            "Requirement already satisfied: astunparse>=1.6.0 in /usr/local/lib/python3.10/dist-packages (from tensorflow==2.12.0) (1.6.3)\n",
            "Requirement already satisfied: flatbuffers>=2.0 in /usr/local/lib/python3.10/dist-packages (from tensorflow==2.12.0) (24.3.25)\n",
            "Requirement already satisfied: gast<=0.4.0,>=0.2.1 in /usr/local/lib/python3.10/dist-packages (from tensorflow==2.12.0) (0.4.0)\n",
            "Requirement already satisfied: google-pasta>=0.1.1 in /usr/local/lib/python3.10/dist-packages (from tensorflow==2.12.0) (0.2.0)\n",
            "Requirement already satisfied: grpcio<2.0,>=1.24.3 in /usr/local/lib/python3.10/dist-packages (from tensorflow==2.12.0) (1.64.1)\n",
            "Requirement already satisfied: h5py>=2.9.0 in /usr/local/lib/python3.10/dist-packages (from tensorflow==2.12.0) (3.12.1)\n",
            "Requirement already satisfied: jax>=0.3.15 in /usr/local/lib/python3.10/dist-packages (from tensorflow==2.12.0) (0.4.30)\n",
            "Requirement already satisfied: keras<2.13,>=2.12.0 in /usr/local/lib/python3.10/dist-packages (from tensorflow==2.12.0) (2.12.0)\n",
            "Requirement already satisfied: libclang>=13.0.0 in /usr/local/lib/python3.10/dist-packages (from tensorflow==2.12.0) (18.1.1)\n",
            "Requirement already satisfied: numpy<1.24,>=1.22 in /usr/local/lib/python3.10/dist-packages (from tensorflow==2.12.0) (1.23.5)\n",
            "Requirement already satisfied: opt-einsum>=2.3.2 in /usr/local/lib/python3.10/dist-packages (from tensorflow==2.12.0) (3.4.0)\n",
            "Requirement already satisfied: packaging in /usr/local/lib/python3.10/dist-packages (from tensorflow==2.12.0) (24.1)\n",
            "Requirement already satisfied: protobuf!=4.21.0,!=4.21.1,!=4.21.2,!=4.21.3,!=4.21.4,!=4.21.5,<5.0.0dev,>=3.20.3 in /usr/local/lib/python3.10/dist-packages (from tensorflow==2.12.0) (3.20.3)\n",
            "Requirement already satisfied: setuptools in /usr/local/lib/python3.10/dist-packages (from tensorflow==2.12.0) (75.1.0)\n",
            "Requirement already satisfied: six>=1.12.0 in /usr/local/lib/python3.10/dist-packages (from tensorflow==2.12.0) (1.16.0)\n",
            "Requirement already satisfied: tensorboard<2.13,>=2.12 in /usr/local/lib/python3.10/dist-packages (from tensorflow==2.12.0) (2.12.3)\n",
            "Requirement already satisfied: tensorflow-estimator<2.13,>=2.12.0 in /usr/local/lib/python3.10/dist-packages (from tensorflow==2.12.0) (2.12.0)\n",
            "Requirement already satisfied: termcolor>=1.1.0 in /usr/local/lib/python3.10/dist-packages (from tensorflow==2.12.0) (2.5.0)\n",
            "Requirement already satisfied: typing-extensions>=3.6.6 in /usr/local/lib/python3.10/dist-packages (from tensorflow==2.12.0) (4.12.2)\n",
            "Requirement already satisfied: wrapt<1.15,>=1.11.0 in /usr/local/lib/python3.10/dist-packages (from tensorflow==2.12.0) (1.14.1)\n",
            "Requirement already satisfied: tensorflow-io-gcs-filesystem>=0.23.1 in /usr/local/lib/python3.10/dist-packages (from tensorflow==2.12.0) (0.37.1)\n",
            "Requirement already satisfied: edgeimpulse-api<2.0.0,>=1.59.5 in /usr/local/lib/python3.10/dist-packages (from edgeimpulse) (1.60.16)\n",
            "Requirement already satisfied: python-socketio<6.0.0,>=5.8.0 in /usr/local/lib/python3.10/dist-packages (from python-socketio[client]<6.0.0,>=5.8.0->edgeimpulse) (5.11.4)\n",
            "Requirement already satisfied: requests<3.0.0,>=2.23.0 in /usr/local/lib/python3.10/dist-packages (from edgeimpulse) (2.32.3)\n",
            "Requirement already satisfied: wheel<1.0,>=0.23.0 in /usr/local/lib/python3.10/dist-packages (from astunparse>=1.6.0->tensorflow==2.12.0) (0.44.0)\n",
            "Requirement already satisfied: aenum<4.0.0,>=3.1.11 in /usr/local/lib/python3.10/dist-packages (from edgeimpulse-api<2.0.0,>=1.59.5->edgeimpulse) (3.1.15)\n",
            "Requirement already satisfied: pydantic<2.0.0,>=1.10.2 in /usr/local/lib/python3.10/dist-packages (from edgeimpulse-api<2.0.0,>=1.59.5->edgeimpulse) (1.10.18)\n",
            "Requirement already satisfied: python_dateutil<3.0.0,>=2.5.3 in /usr/local/lib/python3.10/dist-packages (from edgeimpulse-api<2.0.0,>=1.59.5->edgeimpulse) (2.8.2)\n",
            "Requirement already satisfied: urllib3<2.0.0,>=1.25.3 in /usr/local/lib/python3.10/dist-packages (from edgeimpulse-api<2.0.0,>=1.59.5->edgeimpulse) (1.26.20)\n",
            "Requirement already satisfied: jaxlib<=0.4.30,>=0.4.27 in /usr/local/lib/python3.10/dist-packages (from jax>=0.3.15->tensorflow==2.12.0) (0.4.30)\n",
            "Requirement already satisfied: ml-dtypes>=0.2.0 in /usr/local/lib/python3.10/dist-packages (from jax>=0.3.15->tensorflow==2.12.0) (0.4.1)\n",
            "Requirement already satisfied: scipy>=1.9 in /usr/local/lib/python3.10/dist-packages (from jax>=0.3.15->tensorflow==2.12.0) (1.13.1)\n",
            "Requirement already satisfied: bidict>=0.21.0 in /usr/local/lib/python3.10/dist-packages (from python-socketio<6.0.0,>=5.8.0->python-socketio[client]<6.0.0,>=5.8.0->edgeimpulse) (0.23.1)\n",
            "Requirement already satisfied: python-engineio>=4.8.0 in /usr/local/lib/python3.10/dist-packages (from python-socketio<6.0.0,>=5.8.0->python-socketio[client]<6.0.0,>=5.8.0->edgeimpulse) (4.10.1)\n",
            "Requirement already satisfied: websocket-client>=0.54.0 in /usr/local/lib/python3.10/dist-packages (from python-socketio[client]<6.0.0,>=5.8.0->edgeimpulse) (1.8.0)\n",
            "Requirement already satisfied: charset-normalizer<4,>=2 in /usr/local/lib/python3.10/dist-packages (from requests<3.0.0,>=2.23.0->edgeimpulse) (3.4.0)\n",
            "Requirement already satisfied: idna<4,>=2.5 in /usr/local/lib/python3.10/dist-packages (from requests<3.0.0,>=2.23.0->edgeimpulse) (3.10)\n",
            "Requirement already satisfied: certifi>=2017.4.17 in /usr/local/lib/python3.10/dist-packages (from requests<3.0.0,>=2.23.0->edgeimpulse) (2024.8.30)\n",
            "Requirement already satisfied: google-auth<3,>=1.6.3 in /usr/local/lib/python3.10/dist-packages (from tensorboard<2.13,>=2.12->tensorflow==2.12.0) (2.27.0)\n",
            "Requirement already satisfied: google-auth-oauthlib<1.1,>=0.5 in /usr/local/lib/python3.10/dist-packages (from tensorboard<2.13,>=2.12->tensorflow==2.12.0) (1.0.0)\n",
            "Requirement already satisfied: markdown>=2.6.8 in /usr/local/lib/python3.10/dist-packages (from tensorboard<2.13,>=2.12->tensorflow==2.12.0) (3.7)\n",
            "Requirement already satisfied: tensorboard-data-server<0.8.0,>=0.7.0 in /usr/local/lib/python3.10/dist-packages (from tensorboard<2.13,>=2.12->tensorflow==2.12.0) (0.7.2)\n",
            "Requirement already satisfied: werkzeug>=1.0.1 in /usr/local/lib/python3.10/dist-packages (from tensorboard<2.13,>=2.12->tensorflow==2.12.0) (3.0.6)\n",
            "Requirement already satisfied: cachetools<6.0,>=2.0.0 in /usr/local/lib/python3.10/dist-packages (from google-auth<3,>=1.6.3->tensorboard<2.13,>=2.12->tensorflow==2.12.0) (5.5.0)\n",
            "Requirement already satisfied: pyasn1-modules>=0.2.1 in /usr/local/lib/python3.10/dist-packages (from google-auth<3,>=1.6.3->tensorboard<2.13,>=2.12->tensorflow==2.12.0) (0.4.1)\n",
            "Requirement already satisfied: rsa<5,>=3.1.4 in /usr/local/lib/python3.10/dist-packages (from google-auth<3,>=1.6.3->tensorboard<2.13,>=2.12->tensorflow==2.12.0) (4.9)\n",
            "Requirement already satisfied: requests-oauthlib>=0.7.0 in /usr/local/lib/python3.10/dist-packages (from google-auth-oauthlib<1.1,>=0.5->tensorboard<2.13,>=2.12->tensorflow==2.12.0) (1.3.1)\n",
            "Requirement already satisfied: simple-websocket>=0.10.0 in /usr/local/lib/python3.10/dist-packages (from python-engineio>=4.8.0->python-socketio<6.0.0,>=5.8.0->python-socketio[client]<6.0.0,>=5.8.0->edgeimpulse) (1.1.0)\n",
            "Requirement already satisfied: MarkupSafe>=2.1.1 in /usr/local/lib/python3.10/dist-packages (from werkzeug>=1.0.1->tensorboard<2.13,>=2.12->tensorflow==2.12.0) (3.0.2)\n",
            "Requirement already satisfied: pyasn1<0.7.0,>=0.4.6 in /usr/local/lib/python3.10/dist-packages (from pyasn1-modules>=0.2.1->google-auth<3,>=1.6.3->tensorboard<2.13,>=2.12->tensorflow==2.12.0) (0.6.1)\n",
            "Requirement already satisfied: oauthlib>=3.0.0 in /usr/local/lib/python3.10/dist-packages (from requests-oauthlib>=0.7.0->google-auth-oauthlib<1.1,>=0.5->tensorboard<2.13,>=2.12->tensorflow==2.12.0) (3.2.2)\n",
            "Requirement already satisfied: wsproto in /usr/local/lib/python3.10/dist-packages (from simple-websocket>=0.10.0->python-engineio>=4.8.0->python-socketio<6.0.0,>=5.8.0->python-socketio[client]<6.0.0,>=5.8.0->edgeimpulse) (1.2.0)\n",
            "Requirement already satisfied: h11<1,>=0.9.0 in /usr/local/lib/python3.10/dist-packages (from wsproto->simple-websocket>=0.10.0->python-engineio>=4.8.0->python-socketio<6.0.0,>=5.8.0->python-socketio[client]<6.0.0,>=5.8.0->edgeimpulse) (0.14.0)\n"
          ]
        }
      ],
      "source": [
        "!python -m pip install tensorflow==2.12.0 edgeimpulse"
      ]
    },
    {
      "cell_type": "markdown",
      "source": [
        "# Import Packages"
      ],
      "metadata": {
        "id": "sWxSB0pKLdM-"
      },
      "id": "sWxSB0pKLdM-"
    },
    {
      "cell_type": "code",
      "execution_count": 27,
      "id": "2f85b7c9-e76b-459e-ac37-4b348cbb5906",
      "metadata": {
        "tags": [],
        "id": "2f85b7c9-e76b-459e-ac37-4b348cbb5906"
      },
      "outputs": [],
      "source": [
        "from tensorflow import keras\n",
        "import edgeimpulse as ei\n",
        "import tensorflow as tf\n",
        "from tensorflow.keras.preprocessing.image import ImageDataGenerator\n",
        "from tensorflow import keras\n",
        "from tensorflow.keras.layers import Conv2D, MaxPooling2D, Flatten, Dense\n",
        "import os"
      ]
    },
    {
      "cell_type": "markdown",
      "source": [
        "# Setup"
      ],
      "metadata": {
        "id": "QWcJurluLmqj"
      },
      "id": "QWcJurluLmqj"
    },
    {
      "cell_type": "code",
      "execution_count": 46,
      "id": "3429e02d-5188-4215-97c7-5a50b854b06b",
      "metadata": {
        "tags": [],
        "id": "3429e02d-5188-4215-97c7-5a50b854b06b"
      },
      "outputs": [],
      "source": [
        "# Settings\n",
        "ei.API_KEY = \"ei_c90f6349e4f2624274eff30ee840a3e6412c3135d1651ee15515404d290ce842\"\n",
        "labels = [\"fire\"]\n",
        "num_classes = len(labels)\n",
        "deploy_filename = \"bushfire_detection_model_cpp.zip\""
      ]
    },
    {
      "cell_type": "code",
      "source": [
        "from google.colab import drive\n",
        "drive.mount('/content/drive')"
      ],
      "metadata": {
        "id": "mMjwVcog-IpL",
        "outputId": "ee7f8999-6778-4e1d-aef7-571af3fa2030",
        "colab": {
          "base_uri": "https://localhost:8080/"
        }
      },
      "id": "mMjwVcog-IpL",
      "execution_count": 29,
      "outputs": [
        {
          "output_type": "stream",
          "name": "stdout",
          "text": [
            "Drive already mounted at /content/drive; to attempt to forcibly remount, call drive.mount(\"/content/drive\", force_remount=True).\n"
          ]
        }
      ]
    },
    {
      "cell_type": "markdown",
      "source": [
        "# Prepare Dataset\n",
        "Organise files between 'Training and Validation' and 'Testing' folders containing 'fire' and 'nofire' images.\n"
      ],
      "metadata": {
        "id": "3GDZhXZTLtAe"
      },
      "id": "3GDZhXZTLtAe"
    },
    {
      "cell_type": "code",
      "execution_count": 47,
      "id": "0a0abd03-9473-4272-b97d-f59cefa44995",
      "metadata": {
        "tags": [],
        "id": "0a0abd03-9473-4272-b97d-f59cefa44995",
        "colab": {
          "base_uri": "https://localhost:8080/"
        },
        "outputId": "18cabd4b-8d23-4165-ac17-161e945bcbde"
      },
      "outputs": [
        {
          "output_type": "stream",
          "name": "stdout",
          "text": [
            "Found 1467 images belonging to 2 classes.\n",
            "Found 365 images belonging to 2 classes.\n"
          ]
        }
      ],
      "source": [
        "# Define paths for your dataset\n",
        "train_val_directory = 'drive/MyDrive/forest_fire/Training and Validation'\n",
        "test_directory = 'drive/MyDrive/forest_fire/Testing'\n",
        "\n",
        "# Create an ImageDataGenerator for training and validation\n",
        "train_val_datagen = ImageDataGenerator(\n",
        "    rescale=1.0 / 255,        # Normalize pixel values\n",
        "    validation_split=0.2      # Use 20% of the training data for validation\n",
        ")\n",
        "\n",
        "# Create generators for training and validation data\n",
        "train_generator = train_val_datagen.flow_from_directory(\n",
        "    train_val_directory,\n",
        "    target_size=(128, 128),   # Resize images to 128x128\n",
        "    batch_size=32,             # Number of images to return in each batch\n",
        "    class_mode='binary',       # Binary classification (fire or no fire)\n",
        "    subset='training',          # Set as training data\n",
        "    classes=['fire', 'nofire'] # Explicitly specify the class names\n",
        ")\n",
        "\n",
        "validation_generator = train_val_datagen.flow_from_directory(\n",
        "    train_val_directory,\n",
        "    target_size=(128, 128),\n",
        "    batch_size=32,\n",
        "    class_mode='binary',       # Binary classification\n",
        "    subset='validation',        # Set as validation data\n",
        "    classes=['fire', 'nofire'] # Explicitly specify the class names\n",
        ")"
      ]
    },
    {
      "cell_type": "markdown",
      "source": [
        "Setup of 'Testing' directory"
      ],
      "metadata": {
        "id": "dnolBQY6MrJt"
      },
      "id": "dnolBQY6MrJt"
    },
    {
      "cell_type": "code",
      "source": [
        "# Create an ImageDataGenerator for testing (no split needed)\n",
        "test_datagen = ImageDataGenerator(rescale=1.0 / 255)\n",
        "\n",
        "# Create a generator for the test data\n",
        "test_generator = test_datagen.flow_from_directory(\n",
        "    test_directory,\n",
        "    target_size=(128, 128),\n",
        "    batch_size=32,\n",
        "    class_mode='binary',       # Binary classification\n",
        "    shuffle=False,             # Don't shuffle test data\n",
        "    classes=['fire', 'nofire'] # Explicitly specify the class names\n",
        ")"
      ],
      "metadata": {
        "colab": {
          "base_uri": "https://localhost:8080/"
        },
        "id": "1j-5sWKABMEp",
        "outputId": "704e10e8-0039-496f-d5ab-a3ae66c94c96"
      },
      "id": "1j-5sWKABMEp",
      "execution_count": 48,
      "outputs": [
        {
          "output_type": "stream",
          "name": "stdout",
          "text": [
            "Found 68 images belonging to 2 classes.\n"
          ]
        }
      ]
    },
    {
      "cell_type": "markdown",
      "source": [
        "#Building and compiling model"
      ],
      "metadata": {
        "id": "w2UTngUXMxF0"
      },
      "id": "w2UTngUXMxF0"
    },
    {
      "cell_type": "code",
      "execution_count": 49,
      "id": "ba42755e-b13c-4e84-a016-4e4fcf4be9f6",
      "metadata": {
        "tags": [],
        "id": "ba42755e-b13c-4e84-a016-4e4fcf4be9f6"
      },
      "outputs": [],
      "source": [
        "# Build your model\n",
        "model = tf.keras.Sequential([\n",
        "    tf.keras.layers.Conv2D(32, (3, 3), activation='relu', input_shape=(128, 128, 3)),\n",
        "    tf.keras.layers.MaxPooling2D(pool_size=(2, 2)),\n",
        "    tf.keras.layers.Flatten(),\n",
        "    tf.keras.layers.Dense(64, activation='relu'),\n",
        "    tf.keras.layers.Dense(1, activation='sigmoid')  # Sigmoid for binary classification\n",
        "])\n",
        "\n",
        "# Compile the model\n",
        "model.compile(optimizer='adam', loss='binary_crossentropy', metrics=['accuracy'])"
      ]
    },
    {
      "cell_type": "markdown",
      "source": [
        "Testing model setup"
      ],
      "metadata": {
        "id": "7tg701dmOdIb"
      },
      "id": "7tg701dmOdIb"
    },
    {
      "source": [
        "print(train_generator.class_indices)"
      ],
      "cell_type": "code",
      "metadata": {
        "colab": {
          "base_uri": "https://localhost:8080/"
        },
        "id": "teYM2iWqOegp",
        "outputId": "f240eee6-952b-4ec4-9ea5-2966b1c63f7c"
      },
      "id": "teYM2iWqOegp",
      "execution_count": 50,
      "outputs": [
        {
          "output_type": "stream",
          "name": "stdout",
          "text": [
            "{'fire': 0, 'nofire': 1}\n"
          ]
        }
      ]
    },
    {
      "cell_type": "markdown",
      "source": [
        "# Training Model"
      ],
      "metadata": {
        "id": "bx2t60lWM7r3"
      },
      "id": "bx2t60lWM7r3"
    },
    {
      "cell_type": "code",
      "execution_count": 51,
      "id": "d6ddf625-43c9-40da-9c44-7fbbbea8b572",
      "metadata": {
        "tags": [],
        "id": "d6ddf625-43c9-40da-9c44-7fbbbea8b572",
        "colab": {
          "base_uri": "https://localhost:8080/"
        },
        "outputId": "e5c0f0cd-3aad-4996-909e-789a4aace077"
      },
      "outputs": [
        {
          "output_type": "stream",
          "name": "stdout",
          "text": [
            "Epoch 1/10\n",
            "45/45 [==============================] - 45s 810ms/step - loss: 0.4942 - accuracy: 0.8969 - val_loss: 0.3507 - val_accuracy: 0.9006\n",
            "Epoch 2/10\n",
            "45/45 [==============================] - 37s 817ms/step - loss: 0.1579 - accuracy: 0.9505 - val_loss: 0.3709 - val_accuracy: 0.8892\n",
            "Epoch 3/10\n",
            "45/45 [==============================] - 36s 809ms/step - loss: 0.1052 - accuracy: 0.9666 - val_loss: 0.2489 - val_accuracy: 0.9176\n",
            "Epoch 4/10\n",
            "45/45 [==============================] - 36s 811ms/step - loss: 0.0654 - accuracy: 0.9777 - val_loss: 0.3100 - val_accuracy: 0.9091\n",
            "Epoch 5/10\n",
            "45/45 [==============================] - 36s 810ms/step - loss: 0.0568 - accuracy: 0.9763 - val_loss: 0.3151 - val_accuracy: 0.9091\n",
            "Epoch 6/10\n",
            "45/45 [==============================] - 35s 777ms/step - loss: 0.0587 - accuracy: 0.9749 - val_loss: 0.3063 - val_accuracy: 0.8977\n",
            "Epoch 7/10\n",
            "45/45 [==============================] - 35s 757ms/step - loss: 0.0121 - accuracy: 0.9986 - val_loss: 0.2787 - val_accuracy: 0.9119\n",
            "Epoch 8/10\n",
            "45/45 [==============================] - 36s 807ms/step - loss: 0.0100 - accuracy: 0.9993 - val_loss: 0.2709 - val_accuracy: 0.9233\n",
            "Epoch 9/10\n",
            "45/45 [==============================] - 33s 735ms/step - loss: 0.0078 - accuracy: 0.9986 - val_loss: 0.2977 - val_accuracy: 0.9176\n",
            "Epoch 10/10\n",
            "45/45 [==============================] - 36s 808ms/step - loss: 0.0036 - accuracy: 0.9993 - val_loss: 0.2990 - val_accuracy: 0.9261\n"
          ]
        },
        {
          "output_type": "execute_result",
          "data": {
            "text/plain": [
              "<keras.callbacks.History at 0x7be117725d20>"
            ]
          },
          "metadata": {},
          "execution_count": 51
        }
      ],
      "source": [
        "# Train the model\n",
        "model.fit(\n",
        "    train_generator,\n",
        "    steps_per_epoch=train_generator.samples // train_generator.batch_size,\n",
        "    validation_data=validation_generator,\n",
        "    validation_steps=validation_generator.samples // validation_generator.batch_size,\n",
        "    epochs=10\n",
        ")"
      ]
    },
    {
      "cell_type": "markdown",
      "source": [
        "#Test Accuracy and Evaluation"
      ],
      "metadata": {
        "id": "mKh_ylDfM_ij"
      },
      "id": "mKh_ylDfM_ij"
    },
    {
      "cell_type": "code",
      "execution_count": 52,
      "id": "dc2b0ab6-e2d0-4448-9545-4870e5b2d101",
      "metadata": {
        "tags": [],
        "id": "dc2b0ab6-e2d0-4448-9545-4870e5b2d101",
        "colab": {
          "base_uri": "https://localhost:8080/"
        },
        "outputId": "bfc58304-2c80-4ba4-efd9-048e18151925"
      },
      "outputs": [
        {
          "output_type": "stream",
          "name": "stdout",
          "text": [
            "2/2 [==============================] - 1s 167ms/step - loss: 0.3273 - accuracy: 0.9375\n",
            "Test Accuracy: 0.94\n"
          ]
        }
      ],
      "source": [
        "# Evaluate the model on the test data\n",
        "test_loss, test_accuracy = model.evaluate(test_generator, steps=test_generator.samples // test_generator.batch_size)\n",
        "print(f'Test Accuracy: {test_accuracy:.2f}')"
      ]
    },
    {
      "cell_type": "markdown",
      "source": [
        "# Model to System Compatibility"
      ],
      "metadata": {
        "id": "wF2C2-b_NG-w"
      },
      "id": "wF2C2-b_NG-w"
    },
    {
      "cell_type": "code",
      "execution_count": null,
      "id": "1b622df2-9745-4c93-969f-35de2ff10df6",
      "metadata": {
        "tags": [],
        "id": "1b622df2-9745-4c93-969f-35de2ff10df6"
      },
      "outputs": [],
      "source": [
        "# List the available profile target devices\n",
        "# ei.model.list_profile_devices()"
      ]
    },
    {
      "cell_type": "code",
      "execution_count": null,
      "id": "3c16e2ab-0c50-483e-8d2e-01c2dd48be23",
      "metadata": {
        "tags": [],
        "id": "3c16e2ab-0c50-483e-8d2e-01c2dd48be23"
      },
      "outputs": [],
      "source": [
        "# Estimate the RAM, ROM, and inference time for our model on the target hardware family\n",
        "# try:\n",
        "#     profile = ei.model.profile(model=model,\n",
        "#                                device='openmv-h7p')\n",
        "#     print(profile.summary())\n",
        "# except Exception as e:\n",
        "#     print(f\"Could not profile: {e}\")"
      ]
    },
    {
      "cell_type": "markdown",
      "source": [
        "# Deploying and Downloading Model"
      ],
      "metadata": {
        "id": "Ibc348I9NnRz"
      },
      "id": "Ibc348I9NnRz"
    },
    {
      "cell_type": "code",
      "execution_count": 58,
      "id": "f45a3c73-fbc2-477a-9f8d-04c3e10b1863",
      "metadata": {
        "tags": [],
        "id": "f45a3c73-fbc2-477a-9f8d-04c3e10b1863",
        "colab": {
          "base_uri": "https://localhost:8080/"
        },
        "outputId": "584df63d-8f34-44c8-bc61-9b83e545481f"
      },
      "outputs": [
        {
          "output_type": "stream",
          "name": "stderr",
          "text": [
            "WARNING:absl:Found untraced functions such as _jit_compiled_convolution_op, _update_step_xla while saving (showing 2 of 2). These functions will not be directly callable after loading.\n"
          ]
        },
        {
          "output_type": "stream",
          "name": "stdout",
          "text": [
            "Model deployment successful.\n",
            "Model exported as saved_model.zip\n"
          ]
        }
      ],
      "source": [
        "# Define the output and input types for your model\n",
        "model_output_type = ei.model.output_type.Classification(labels=labels)\n",
        "\n",
        "# Define the model input type for images\n",
        "model_input_type = ei.model.input_type.ImageInput()\n",
        "\n",
        "# Define the filename for the deployment package\n",
        "deploy_filename = \"saved_model_zip.zip\"\n",
        "\n",
        "# Save your model as a TensorFlow SavedModel first\n",
        "model.save(\"saved_model\")  # Save model in the correct format\n",
        "\n",
        "# Try to deploy the model directly as a C++ library in a .zip file\n",
        "deploy_bytes = None\n",
        "try:\n",
        "    # Specify the path to the saved model\n",
        "    deploy_bytes = ei.model.deploy(\n",
        "        model=\"saved_model\",  # Path to the saved model\n",
        "        model_output_type=model_output_type,\n",
        "        model_input_type=model_input_type,\n",
        "        deploy_target='zip'  # Export as a .zip file with C++ library\n",
        "    )\n",
        "    print(\"Model deployment successful.\")\n",
        "except Exception as e:\n",
        "    print(f\"Could not deploy: {e}\")\n",
        "\n",
        "# Write the deployed model bytes to a file\n",
        "if deploy_bytes:\n",
        "    with open(deploy_filename, 'wb') as f:\n",
        "        f.write(deploy_bytes.getvalue())\n",
        "    print(f\"Model exported as {deploy_filename}\")\n",
        "else:\n",
        "    print(\"Deployment failed; no deployable bytes were generated.\")"
      ]
    },
    {
      "cell_type": "code",
      "source": [
        "from google.colab import files\n",
        "import shutil\n",
        "\n",
        "shutil.make_archive(\"saved_model\", 'zip', \"saved_model\")\n",
        "files.download(\"saved_model.zip\")"
      ],
      "metadata": {
        "id": "SrWWW-ZKzG9h",
        "outputId": "26e1e212-53a7-44b8-ac80-2c9c59b84498",
        "colab": {
          "base_uri": "https://localhost:8080/",
          "height": 17
        }
      },
      "id": "SrWWW-ZKzG9h",
      "execution_count": 60,
      "outputs": [
        {
          "output_type": "display_data",
          "data": {
            "text/plain": [
              "<IPython.core.display.Javascript object>"
            ],
            "application/javascript": [
              "\n",
              "    async function download(id, filename, size) {\n",
              "      if (!google.colab.kernel.accessAllowed) {\n",
              "        return;\n",
              "      }\n",
              "      const div = document.createElement('div');\n",
              "      const label = document.createElement('label');\n",
              "      label.textContent = `Downloading \"${filename}\": `;\n",
              "      div.appendChild(label);\n",
              "      const progress = document.createElement('progress');\n",
              "      progress.max = size;\n",
              "      div.appendChild(progress);\n",
              "      document.body.appendChild(div);\n",
              "\n",
              "      const buffers = [];\n",
              "      let downloaded = 0;\n",
              "\n",
              "      const channel = await google.colab.kernel.comms.open(id);\n",
              "      // Send a message to notify the kernel that we're ready.\n",
              "      channel.send({})\n",
              "\n",
              "      for await (const message of channel.messages) {\n",
              "        // Send a message to notify the kernel that we're ready.\n",
              "        channel.send({})\n",
              "        if (message.buffers) {\n",
              "          for (const buffer of message.buffers) {\n",
              "            buffers.push(buffer);\n",
              "            downloaded += buffer.byteLength;\n",
              "            progress.value = downloaded;\n",
              "          }\n",
              "        }\n",
              "      }\n",
              "      const blob = new Blob(buffers, {type: 'application/binary'});\n",
              "      const a = document.createElement('a');\n",
              "      a.href = window.URL.createObjectURL(blob);\n",
              "      a.download = filename;\n",
              "      div.appendChild(a);\n",
              "      a.click();\n",
              "      div.remove();\n",
              "    }\n",
              "  "
            ]
          },
          "metadata": {}
        },
        {
          "output_type": "display_data",
          "data": {
            "text/plain": [
              "<IPython.core.display.Javascript object>"
            ],
            "application/javascript": [
              "download(\"download_c3187778-080e-48b0-90ed-2be1e7cbd1b6\", \"saved_model.zip\", 90631949)"
            ]
          },
          "metadata": {}
        }
      ]
    },
    {
      "cell_type": "markdown",
      "source": [
        "# Model Specifications\n",
        "Code to check if model has been trained correctly"
      ],
      "metadata": {
        "id": "A4pSOhuNKyXL"
      },
      "id": "A4pSOhuNKyXL"
    },
    {
      "cell_type": "code",
      "source": [
        "model.summary()"
      ],
      "metadata": {
        "colab": {
          "base_uri": "https://localhost:8080/"
        },
        "id": "SrbKsNsQKU3e",
        "outputId": "9fb87c34-acb5-465c-d82a-98d8342dcb07"
      },
      "id": "SrbKsNsQKU3e",
      "execution_count": 54,
      "outputs": [
        {
          "output_type": "stream",
          "name": "stdout",
          "text": [
            "Model: \"sequential_6\"\n",
            "_________________________________________________________________\n",
            " Layer (type)                Output Shape              Param #   \n",
            "=================================================================\n",
            " conv2d_6 (Conv2D)           (None, 126, 126, 32)      896       \n",
            "                                                                 \n",
            " max_pooling2d_6 (MaxPooling  (None, 63, 63, 32)       0         \n",
            " 2D)                                                             \n",
            "                                                                 \n",
            " flatten_6 (Flatten)         (None, 127008)            0         \n",
            "                                                                 \n",
            " dense_12 (Dense)            (None, 64)                8128576   \n",
            "                                                                 \n",
            " dense_13 (Dense)            (None, 1)                 65        \n",
            "                                                                 \n",
            "=================================================================\n",
            "Total params: 8,129,537\n",
            "Trainable params: 8,129,537\n",
            "Non-trainable params: 0\n",
            "_________________________________________________________________\n"
          ]
        }
      ]
    }
  ],
  "metadata": {
    "kernelspec": {
      "display_name": "Python 3 (ipykernel)",
      "language": "python",
      "name": "python3"
    },
    "language_info": {
      "codemirror_mode": {
        "name": "ipython",
        "version": 3
      },
      "file_extension": ".py",
      "mimetype": "text/x-python",
      "name": "python",
      "nbconvert_exporter": "python",
      "pygments_lexer": "ipython3",
      "version": "3.8.16"
    },
    "colab": {
      "provenance": []
    }
  },
  "nbformat": 4,
  "nbformat_minor": 5
}